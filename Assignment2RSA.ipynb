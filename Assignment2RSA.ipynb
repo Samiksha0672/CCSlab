{
 "cells": [
  {
   "cell_type": "code",
   "execution_count": 1,
   "metadata": {},
   "outputs": [
    {
     "name": "stdout",
     "output_type": "stream",
     "text": [
      "n = 77, phi(n) = 60\n",
      "e = 7, d = 43\n",
      "Public Key is: (e = 7, n = 77)\n",
      "Private Key is: (d = 43, n = 77)\n",
      "Encrypted message (ciphertext): 71\n",
      "Decrypted message: 15\n"
     ]
    }
   ],
   "source": [
    "def gcd(a, b):\n",
    "    while b:\n",
    "        a, b = b, a % b\n",
    "    return a\n",
    "\n",
    "# Function to check if a number is prime\n",
    "def is_prime(n):\n",
    "    if n <= 1:\n",
    "        return False\n",
    "    for i in range(2, int(n-1)):\n",
    "\n",
    "\n",
    "\n",
    "        if n % i == 0:\n",
    "            return False\n",
    "    return True\n",
    "\n",
    "p = int(input(\"Enter a prime number p: \"))\n",
    "q = int(input(\"Enter a prime number q: \"))\n",
    "\n",
    "if not is_prime(p):\n",
    "    print(f\"{p} is not a prime number\")\n",
    "    exit()\n",
    "if not is_prime(q):\n",
    "    print(f\"{q} is not a prime number\")\n",
    "    exit()\n",
    "\n",
    "\n",
    "n = p * q\n",
    "phi_n = (p - 1) * (q - 1)\n",
    "print(f\"n = {n}, phi(n) = {phi_n}\")\n",
    "\n",
    "\n",
    "e = 2\n",
    "while e < phi_n and gcd(e, phi_n) != 1:\n",
    "    e += 1\n",
    "\n",
    "\n",
    " # calculating d\n",
    "def calculate_d(e, phi_n):\n",
    "    i = 0\n",
    "    while True:\n",
    "        d_candidate = (phi_n * i + 1) // e\n",
    "        if (phi_n * i + 1) % e == 0:  \n",
    "            return d_candidate\n",
    "        i += 1\n",
    "\n",
    "d = calculate_d(e, phi_n)\n",
    "print(f\"e = {e}, d = {d}\")\n",
    "print(f\"Public Key is: (e = {e}, n = {n})\")\n",
    "print(f\"Private Key is: (d = {d}, n = {n})\")\n",
    "\n",
    "\n",
    "\n",
    "m = int(input(\"Enter a message m (as a number): \"))\n",
    "\n",
    "c = pow(m, e, n)  #formula m^e mod n ,m<n \n",
    "\n",
    "m_decrypted = pow(c, d, n) #formula c^d mod n\n",
    "\n",
    "\n",
    "\n",
    "print(f\"Encrypted message (ciphertext): {c}\")\n",
    "print(f\"Decrypted message: {m_decrypted}\")\n"
   ]
  }
 ],
 "metadata": {
  "kernelspec": {
   "display_name": "Python 3",
   "language": "python",
   "name": "python3"
  },
  "language_info": {
   "codemirror_mode": {
    "name": "ipython",
    "version": 3
   },
   "file_extension": ".py",
   "mimetype": "text/x-python",
   "name": "python",
   "nbconvert_exporter": "python",
   "pygments_lexer": "ipython3",
   "version": "3.12.5"
  }
 },
 "nbformat": 4,
 "nbformat_minor": 2
}
