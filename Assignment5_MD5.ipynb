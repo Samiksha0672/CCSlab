{
 "cells": [
  {
   "cell_type": "code",
   "execution_count": 1,
   "metadata": {},
   "outputs": [
    {
     "name": "stdout",
     "output_type": "stream",
     "text": [
      "MD5 hash for tutorialspoint : 6c60b3cfe5124f982eb629e00a98f01f\n"
     ]
    }
   ],
   "source": [
    "import hashlib\n",
    "\n",
    "def generate_md5(input_string):\n",
    "   md5_hash = hashlib.md5(input_string.encode()).hexdigest()\n",
    "   return md5_hash\n",
    "\n",
    "# function execution\n",
    "input_string = \"tutorialspoint\"\n",
    "md5_hash = generate_md5(input_string)\n",
    "print(\"MD5 hash for\", input_string, \":\", md5_hash)"
   ]
  }
 ],
 "metadata": {
  "kernelspec": {
   "display_name": "Python 3",
   "language": "python",
   "name": "python3"
  },
  "language_info": {
   "codemirror_mode": {
    "name": "ipython",
    "version": 3
   },
   "file_extension": ".py",
   "mimetype": "text/x-python",
   "name": "python",
   "nbconvert_exporter": "python",
   "pygments_lexer": "ipython3",
   "version": "3.12.5"
  }
 },
 "nbformat": 4,
 "nbformat_minor": 2
}
