{
 "cells": [
  {
   "cell_type": "code",
   "execution_count": 1,
   "metadata": {},
   "outputs": [
    {
     "name": "stdout",
     "output_type": "stream",
     "text": [
      "SHA-1 hash: 9a8bfaaace7b9e422f79ef862956e3512aa9d8ea\n"
     ]
    }
   ],
   "source": [
    "import hashlib\n",
    "\n",
    "def sha1(message):\n",
    "   # generate a SHA-1 hash object\n",
    "   sha1_hash = hashlib.sha1()\n",
    "\n",
    "   # update the hash object \n",
    "   sha1_hash.update(message.encode('utf-8'))\n",
    "\n",
    "   # hexadecimal digest of the hash\n",
    "   return sha1_hash.hexdigest()\n",
    "\n",
    "# execute the function\n",
    "message = \"Hello, everyone!\"\n",
    "sha1_hash = sha1(message)\n",
    "print(\"SHA-1 hash:\", sha1_hash)"
   ]
  }
 ],
 "metadata": {
  "kernelspec": {
   "display_name": "Python 3",
   "language": "python",
   "name": "python3"
  },
  "language_info": {
   "codemirror_mode": {
    "name": "ipython",
    "version": 3
   },
   "file_extension": ".py",
   "mimetype": "text/x-python",
   "name": "python",
   "nbconvert_exporter": "python",
   "pygments_lexer": "ipython3",
   "version": "3.12.5"
  }
 },
 "nbformat": 4,
 "nbformat_minor": 2
}
