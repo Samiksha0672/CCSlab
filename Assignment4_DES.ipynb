{
 "cells": [
  {
   "cell_type": "code",
   "execution_count": null,
   "metadata": {},
   "outputs": [
    {
     "name": "stdout",
     "output_type": "stream",
     "text": [
      "Cipher text: b'(&\\x06\\xe9\\x82\\xba+\\xcbZ\\xd3\\x1e{K\\x14\\xde'\n",
      "Plain text: Hello Sanjivani\n"
     ]
    }
   ],
   "source": [
    "from Cryptodome.Cipher import DES\n",
    "\n",
    "from secrets import token_bytes\n",
    "\n",
    "key = token_bytes(8)\n",
    "cipher = DES.new(key, DES.MODE_EAX)\n",
    "\n",
    "msg = input(\"Enter Plaintext which you want to encrypt:\")\n",
    "data = msg.encode()\n",
    "\n",
    "nonce = cipher.nonce\n",
    "ciphertext = cipher.encrypt(data)\n",
    "\n",
    "print(\"Cipher text:\", ciphertext)\n",
    "\n",
    "cipher = DES.new(key, DES.MODE_EAX, nonce=nonce)\n",
    "plaintext = cipher.decrypt(ciphertext)\n",
    "\n",
    "print(\"Plain text:\", plaintext.decode())"
   ]
  }
 ],
 "metadata": {
  "kernelspec": {
   "display_name": "Python 3",
   "language": "python",
   "name": "python3"
  },
  "language_info": {
   "codemirror_mode": {
    "name": "ipython",
    "version": 3
   },
   "file_extension": ".py",
   "mimetype": "text/x-python",
   "name": "python",
   "nbconvert_exporter": "python",
   "pygments_lexer": "ipython3",
   "version": "3.12.5"
  }
 },
 "nbformat": 4,
 "nbformat_minor": 2
}
